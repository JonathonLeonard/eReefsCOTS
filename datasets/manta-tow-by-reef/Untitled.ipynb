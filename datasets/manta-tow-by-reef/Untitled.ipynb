{
 "cells": [
  {
   "cell_type": "code",
   "execution_count": 1,
   "id": "d79c5857-b00f-4422-82bb-36c70bc81a71",
   "metadata": {},
   "outputs": [
    {
     "name": "stdout",
     "output_type": "stream",
     "text": [
      "PyGMT information:\n",
      "  version: v0.6.1\n",
      "System information:\n",
      "  python: 3.10.6 | packaged by conda-forge | (main, Aug 22 2022, 20:43:44) [Clang 13.0.1 ]\n",
      "  executable: /Users/jono/opt/anaconda3/envs/pygmt/bin/python\n",
      "  machine: macOS-12.6-x86_64-i386-64bit\n",
      "Dependency information:\n",
      "  numpy: 1.23.3\n",
      "  pandas: 1.5.0\n",
      "  xarray: 2022.9.0\n",
      "  netCDF4: 1.6.0\n",
      "  packaging: 21.3\n",
      "  geopandas: 0.10.2\n",
      "  ghostscript: 9.54.0\n",
      "  gmt: 6.4.0\n",
      "GMT library information:\n",
      "  binary dir: /Users/jono/opt/anaconda3/envs/pygmt/bin\n",
      "  cores: 10\n",
      "  grid layout: rows\n",
      "  library path: /Users/jono/opt/anaconda3/envs/pygmt/lib/libgmt.dylib\n",
      "  padding: 2\n",
      "  plugin dir: /Users/jono/opt/anaconda3/envs/pygmt/lib/gmt/plugins\n",
      "  share dir: /Users/jono/opt/anaconda3/envs/pygmt/share/gmt\n",
      "  version: 6.4.0\n"
     ]
    }
   ],
   "source": [
    "import pygmt\n",
    "pygmt.show_versions()"
   ]
  },
  {
   "cell_type": "code",
   "execution_count": null,
   "id": "cc47999f-7a7f-4bc8-b76f-20e2640fda29",
   "metadata": {},
   "outputs": [],
   "source": []
  }
 ],
 "metadata": {
  "kernelspec": {
   "display_name": "Python 3 (ipykernel)",
   "language": "python",
   "name": "python3"
  },
  "language_info": {
   "codemirror_mode": {
    "name": "ipython",
    "version": 3
   },
   "file_extension": ".py",
   "mimetype": "text/x-python",
   "name": "python",
   "nbconvert_exporter": "python",
   "pygments_lexer": "ipython3",
   "version": "3.10.6"
  }
 },
 "nbformat": 4,
 "nbformat_minor": 5
}
